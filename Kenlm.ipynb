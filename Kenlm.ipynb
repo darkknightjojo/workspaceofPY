{
 "cells": [
  {
   "cell_type": "code",
   "execution_count": 2,
   "metadata": {},
   "outputs": [],
   "source": [
    "import kenlm\n",
    "import pycorrector\n",
    "#lm = kenlm.Model('D:\\people2014corpus_words.klm')\n",
    "#lm = kenlm.Model('D:test.klm')"
   ]
  },
  {
   "cell_type": "code",
   "execution_count": 17,
   "metadata": {},
   "outputs": [
    {
     "name": "stdout",
     "output_type": "stream",
     "text": [
      "[-12.938653945922852, -12.938653945922852, -12.938653945922852, -12.938653945922852]\n"
     ]
    }
   ],
   "source": [
    "sentence=[\"本数据集由各省上报的全国地面月报信息化文件根据《全国地面气候资料（1961-1990）统计方法》及《地面气象观测规范》有关规定，进行整编统计而得。数据集为中国613个基本、基准地面气象观测站及自动站1951--最新日值数据集,要素包括：平均本站气压、极端最高本站气压、极端最低本站气压、平均气温、平均最高气温、平均最低气温、极端最高气温\",\n",
    "         \"北京谱仪III（BESIII）安装在北京正负电子对撞机升级工程BEPCII环线上，它运行在τ-粲能区，物理目标包括研究弱电相互作用、强相互作用以及新的物理现象。主要开展粲物理研究，在轻强子谱研究、粲偶素衰变和（类）粲偶素粒子研究、粲物理研究等方面取得了一批重大物理成果，在粲物理实验研究处于国际领先地位。\",\n",
    "         \"大亚湾反应堆中微子实验主要目标是利用核反应堆产生的电子反中微子来测定具有重大物理意义的参数—中微子混合角Theta13，Theta13的数值大小决定了未来中微子物理的发展方向，对宇宙起源、粒子物理大统一理论、以及未来中微子物理的发展方向等均有极为重要的意义。\",\n",
    "         \"哈哈，金天天气很好\"\n",
    "         ]\n",
    "score = []\n",
    "for i in range(len(sentence)):\n",
    "    score.append(lm.score(sentence[i]))\n",
    "    \n",
    "print(score)"
   ]
  },
  {
   "cell_type": "code",
   "execution_count": 18,
   "metadata": {},
   "outputs": [
    {
     "name": "stdout",
     "output_type": "stream",
     "text": [
      "[0.0, 0.0, 0.20576925955053368, 0.45511961331341866]\n"
     ]
    }
   ],
   "source": [
    "import math\n",
    "score = []\n",
    "for i in sentence:\n",
    "    corrected_sent, detail = pycorrector.correct(i)\n",
    "    score.append(len(detail)/math.log(len(i)))\n",
    "print(score)"
   ]
  }
 ],
 "metadata": {
  "kernelspec": {
   "display_name": "Python 3",
   "language": "python",
   "name": "python3"
  },
  "language_info": {
   "codemirror_mode": {
    "name": "ipython",
    "version": 3
   },
   "file_extension": ".py",
   "mimetype": "text/x-python",
   "name": "python",
   "nbconvert_exporter": "python",
   "pygments_lexer": "ipython3",
   "version": "3.7.4"
  }
 },
 "nbformat": 4,
 "nbformat_minor": 2
}
