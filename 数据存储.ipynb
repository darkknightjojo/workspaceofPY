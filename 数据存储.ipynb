{
 "cells": [
  {
   "cell_type": "code",
   "execution_count": 4,
   "metadata": {},
   "outputs": [],
   "source": [
    "from bs4 import BeautifulSoup\n",
    "import requests\n",
    "from operator import itemgetter\n",
    "import json\n",
    "import datetime\n",
    "\n",
    "url = 'https://www.bilibili.com/ranking'\n",
    "html = requests.get(url).text\n",
    "soup = BeautifulSoup(html,'lxml')\n",
    "ul = soup.find_all(name='ul')\n",
    "_all = ul[4].find_all(name = 'li')\n",
    "index=[]\n",
    "title=[]\n",
    "view =[]\n",
    "play =[]\n",
    "author=[]\n",
    "src=[]\n",
    "for video in _all:\n",
    "    index.append(video.find(class_='num').string)\n",
    "    title.append(video.find(class_='title').string)\n",
    "    view.append(video.find(class_='b-icon view').next_sibling.string)\n",
    "    play.append(video.find(class_='b-icon play').next_sibling.string)\n",
    "    author.append(video.find(class_='b-icon author').next_sibling.string)\n",
    "    src.append(video.find(class_ = 'title').attrs['href'])\n",
    "\n",
    "for a in range(len(view)):\n",
    "    if(view[a][-1] =='万'):\n",
    "        view[a] = int(float(view[a][:-1]) *10000)\n",
    "    else:\n",
    "        view[a] = int(view[a])\n",
    "for b in range(len(play)):\n",
    "    if(play[b][-1] == '万'):\n",
    "        play[b] = int(float(play[b][:-1])*10000)\n",
    "    else:\n",
    "        play[b] = int(play[b])\n",
    "index = list(map(int,index))\n",
    "video = []\n",
    "for i in range(len(_all)):\n",
    "    temp = {'排名':index[i],'标题':title[i],'作者':author[i],'播放':play[i],'弹幕数':view[i],'来源':src[i]}\n",
    "    video.append(temp)"
   ]
  },
  {
   "cell_type": "code",
   "execution_count": 21,
   "metadata": {},
   "outputs": [],
   "source": [
    "import csv\n",
    "\n",
    "with open('写入文件\\\\data.csv','w',encoding='utf-8') as f:\n",
    "    fieldnames=['排名','标题','作者','播放','弹幕数','来源']\n",
    "    writer = csv.DictWriter(f,fieldnames = fieldnames)\n",
    "    for item in video:\n",
    "        writer.writerow(item)"
   ]
  },
  {
   "cell_type": "code",
   "execution_count": 9,
   "metadata": {},
   "outputs": [],
   "source": [
    "with open('写入文件\\\\data.csv','r',encoding='utf-8') as f:\n",
    "    reader = csv.reader(f)"
   ]
  },
  {
   "cell_type": "markdown",
   "metadata": {},
   "source": [
    "# 数据库存储 Mysql"
   ]
  },
  {
   "cell_type": "code",
   "execution_count": 16,
   "metadata": {},
   "outputs": [
    {
     "name": "stdout",
     "output_type": "stream",
     "text": [
      "数据库版本 ('8.0.16',)\n"
     ]
    }
   ],
   "source": [
    "import pymysql\n",
    "\n",
    "db=pymysql.connect(host=\"localhost\",user=\"root\",password=\"1170\",port=3306, db = 'spiders')\n",
    "cursor = db.cursor()\n",
    "cursor.execute('SELECT VERSION()')\n",
    "data=cursor.fetchone()\n",
    "sql = 'CREATE TABLE IF NOT EXISTS bilibili_rank ('\\\n",
    "      'id INT NOT NULL AUTO_INCREMENT,' \\\n",
    "      'rank_ VARCHAR(3),title VARCHAR(255),author VARCHAR(255), ' \\\n",
    "      'play INT, view INT, src VARCHAR(255),' \\\n",
    "      'PRIMARY KEY (id)) '\n",
    "cursor.execute(sql)\n",
    "db.close()"
   ]
  },
  {
   "cell_type": "code",
   "execution_count": 13,
   "metadata": {},
   "outputs": [
    {
     "data": {
      "text/plain": [
       "<bound method Connection.close of <pymysql.connections.Connection object at 0x0000022E56476648>>"
      ]
     },
     "execution_count": 13,
     "metadata": {},
     "output_type": "execute_result"
    }
   ],
   "source": [
    "import pymysql\n",
    "\n",
    "id = '20200312'\n",
    "user = 'Bob'\n",
    "age = 20\n",
    "db=pymysql.connect(host=\"localhost\",user=\"root\",password=\"1170\",port=3306, db = 'spiders')\n",
    "cursor = db.cursor()\n",
    "sql = 'INSERT INTO students(id,name,age) values(%s,%s,%s)'\n",
    "try:\n",
    "    cursor.execute(sql,(id,user,age))\n",
    "    db.commit()\n",
    "except:\n",
    "    db.rollback()\n",
    "db.close"
   ]
  },
  {
   "cell_type": "markdown",
   "metadata": {},
   "source": [
    "数据库操作标准写法：\n",
    "  try :\n",
    "      cursor.execute(sql)\n",
    "      db.commit()\n",
    " except:\n",
    "     db.rollback()\n",
    " db.close()"
   ]
  },
  {
   "cell_type": "markdown",
   "metadata": {},
   "source": [
    "### 在数据库中插入字典(主键存在则更新，不存在则插入)"
   ]
  },
  {
   "cell_type": "code",
   "execution_count": 77,
   "metadata": {},
   "outputs": [
    {
     "name": "stdout",
     "output_type": "stream",
     "text": [
      "Successful\n"
     ]
    }
   ],
   "source": [
    "import json\n",
    "import pymysql\n",
    "#读取文件\n",
    "with open('写入文件\\\\2020-03-11.json','r',encoding = 'utf-8') as f:\n",
    "    str = f.read()\n",
    "    reader = json.loads(str)\n",
    "#建立数据库连接\n",
    "db=pymysql.connect(host=\"localhost\",user=\"root\",password=\"1170\",port=3306, db = 'spiders',charset=\"utf8\")\n",
    "cursor = db.cursor()\n",
    "\n",
    "table = 'bilibili_rank'\n",
    "keys = 'rank_,title,author,play,view,src'\n",
    "k = ['rank_','title','author','play','view','src']\n",
    "values = ','.join(['%s']*len(reader[0]))\n",
    "sql = 'REPLACE INTO {table}({keys}) VALUES({values})'.format(table = table,keys = keys,values = values)\n",
    "try:\n",
    "    for i in range(len(reader)):\n",
    "        if cursor.execute(sql,tuple(reader[i].values())):\n",
    "            db.commit()\n",
    "    print(\"Successful\")\n",
    "except:\n",
    "    print('Failed')\n",
    "    db.rollback()\n",
    "db.close()"
   ]
  },
  {
   "cell_type": "markdown",
   "metadata": {},
   "source": [
    "### 更新数据库"
   ]
  },
  {
   "cell_type": "code",
   "execution_count": 45,
   "metadata": {},
   "outputs": [],
   "source": [
    "db=pymysql.connect(host=\"localhost\",user=\"root\",password=\"1170\",port=3306, db = 'spiders',charset=\"utf8\")\n",
    "cursor = db.cursor()\n",
    "\n",
    "sql = 'UPDATE bilibili_rank SET rank_ = %s WHERE id = %s'\n",
    "\n",
    "try:\n",
    "    cursor.execute(sql,(1,1))\n",
    "    db.commit()\n",
    "except:\n",
    "    db.rollback()\n",
    "db.close()"
   ]
  },
  {
   "cell_type": "markdown",
   "metadata": {},
   "source": [
    "### 删除数据"
   ]
  },
  {
   "cell_type": "code",
   "execution_count": 60,
   "metadata": {},
   "outputs": [],
   "source": [
    "db=pymysql.connect(host=\"localhost\",user=\"root\",password=\"1170\",port=3306, db = 'spiders',charset=\"utf8\")\n",
    "cursor = db.cursor()\n",
    "\n",
    "condition = 'id > 1'\n",
    "sql = 'DELETE FROM {table} WHERE {condition}'.format(table = table,condition = condition)\n",
    "try:\n",
    "    cursor.execute(sql)\n",
    "    db.commit()\n",
    "except:\n",
    "    db.rollback()"
   ]
  },
  {
   "cell_type": "markdown",
   "metadata": {},
   "source": [
    "### 查询数据"
   ]
  },
  {
   "cell_type": "code",
   "execution_count": 80,
   "metadata": {},
   "outputs": [
    {
     "name": "stdout",
     "output_type": "stream",
     "text": [
      "Count: 2\n",
      "凉风Kaze\n",
      "老番茄\n"
     ]
    }
   ],
   "source": [
    "db=pymysql.connect(host=\"localhost\",user=\"root\",password=\"1170\",port=3306, db = 'spiders',charset=\"utf8\")\n",
    "cursor = db.cursor()\n",
    "\n",
    "condition = 'rank_  = 1'\n",
    "table = 'bilibili_rank'\n",
    "sql = 'select * from {table} where {condition}'.format(table = table,condition = condition)\n",
    "\n",
    "try:\n",
    "    cursor.execute(sql)\n",
    "    print('Count:',cursor.rowcount)\n",
    "    for item in cursor.fetchall():\n",
    "        print(item[3])\n",
    "    db.commit()\n",
    "except:\n",
    "    print('faild')\n",
    "    db.rollback()"
   ]
  },
  {
   "cell_type": "markdown",
   "metadata": {},
   "source": [
    "# MongoDB"
   ]
  },
  {
   "cell_type": "code",
   "execution_count": 22,
   "metadata": {},
   "outputs": [
    {
     "name": "stdout",
     "output_type": "stream",
     "text": [
      "<pymongo.results.InsertManyResult object at 0x00000227EB3ECAC8>\n"
     ]
    }
   ],
   "source": [
    "import pymongo\n",
    "import json\n",
    "\n",
    "#读取文件\n",
    "with open('写入文件\\\\2020-03-11.json','r',encoding = 'utf-8') as f:\n",
    "    str = f.read()\n",
    "    reader = json.loads(str)\n",
    "    \n",
    "client = pymongo.MongoClient(host='localhost',port = 27017)\n",
    "db = client.spider\n",
    "collection = db.bilibili_rank\n",
    "result = collection.insert_many(reader)\n",
    "print(result)"
   ]
  },
  {
   "cell_type": "markdown",
   "metadata": {},
   "source": [
    "### 高级查询"
   ]
  },
  {
   "cell_type": "code",
   "execution_count": 48,
   "metadata": {
    "scrolled": true
   },
   "outputs": [
    {
     "name": "stderr",
     "output_type": "stream",
     "text": [
      "E:\\Anaconda\\lib\\site-packages\\ipykernel_launcher.py:1: DeprecationWarning: count is deprecated. Use Collection.count_documents instead.\n",
      "  \"\"\"Entry point for launching an IPython kernel.\n"
     ]
    }
   ],
   "source": [
    "result = collection.find({'$where': 'obj.弹幕数>=10000'}).count()\n",
    "# print(result)\n",
    "# for item in result:\n",
    "#     print(item)\n",
    "# print(result)"
   ]
  },
  {
   "cell_type": "markdown",
   "metadata": {},
   "source": [
    "### 排序"
   ]
  },
  {
   "cell_type": "code",
   "execution_count": 72,
   "metadata": {},
   "outputs": [
    {
     "name": "stdout",
     "output_type": "stream",
     "text": [
      "【C菌】这就是我投资了500欧元的游戏, 真的太值了! 《恶魔从不撒谎》实况 | 完结\t渗透之C君 76000\n",
      "【老番茄】史上最骚杀手(第八集)\t老番茄 57000\n",
      "【师生对线】这网课上得就尼玛离谱！（第三集）\t鹤吱菌 47000\n",
      "【新番导视】9.9分预定！我的青春回来了！\t凉风Kaze 40000\n",
      "【最全】解读肖战的背后资本，我再也不想做肖战的视频了！！！\t是桃大 39000\n",
      "B站的同学们，大家好，我是罗翔\t罗翔说刑法 26000\n",
      "几个超级实用的网站，用好了你也可以阅片无数\t凉风Kaze 25000\n",
      "我的老婆们突然叫爸爸（配音模仿）\thanser 24000\n",
      "这TM才叫网课！\t特效小哥studio 21000\n",
      "“每日一遍，智商再见”\t枫泽雨畔 18000\n"
     ]
    }
   ],
   "source": [
    "results = collection.find({'排名':{'$lt':10}}).sort('弹幕数',pymongo.DESCENDING).limit(10)\n",
    "for item in results:\n",
    "    print(item['标题']+'\\t'+ item['作者'] ,item['弹幕数'])"
   ]
  },
  {
   "cell_type": "markdown",
   "metadata": {},
   "source": [
    "### 删除"
   ]
  },
  {
   "cell_type": "code",
   "execution_count": 77,
   "metadata": {
    "scrolled": true
   },
   "outputs": [
    {
     "name": "stdout",
     "output_type": "stream",
     "text": [
      "{'n': 100, 'ok': 1.0}\n"
     ]
    },
    {
     "name": "stderr",
     "output_type": "stream",
     "text": [
      "E:\\Anaconda\\lib\\site-packages\\ipykernel_launcher.py:1: DeprecationWarning: remove is deprecated. Use delete_one or delete_many instead.\n",
      "  \"\"\"Entry point for launching an IPython kernel.\n"
     ]
    }
   ],
   "source": [
    "result = collection.delete_many({'来源': {'$exists': False}})\n",
    "print(result)"
   ]
  },
  {
   "cell_type": "markdown",
   "metadata": {},
   "source": [
    "# Redis"
   ]
  },
  {
   "cell_type": "code",
   "execution_count": 81,
   "metadata": {},
   "outputs": [
    {
     "name": "stdout",
     "output_type": "stream",
     "text": [
      "b'Bob'\n"
     ]
    }
   ],
   "source": [
    "from redis import StrictRedis\n",
    "\n",
    "redis = StrictRedis(host='localhost',port = 6379,db = 0)\n",
    "redis.set('name','Bob')\n",
    "print(redis.get('name'))"
   ]
  },
  {
   "cell_type": "code",
   "execution_count": 96,
   "metadata": {},
   "outputs": [
    {
     "name": "stdout",
     "output_type": "stream",
     "text": [
      "True True\n",
      "1\n",
      "b'string'\n",
      "[b'name']\n",
      "b'time'\n",
      "2\n",
      "True\n",
      "30\n"
     ]
    }
   ],
   "source": [
    "print(redis.set('name','Hello'),redis.set('time','second'))\n",
    "print(redis.exists('name'))\n",
    "print(redis.type('name'))\n",
    "print(redis.keys('n*'))\n",
    "print(redis.randomkey())\n",
    "# print(redis.rename('fakeName','name'))n\n",
    "print(redis.dbsize())\n",
    "print(redis.expire('name',30))\n",
    "print(redis.ttl('name'))"
   ]
  },
  {
   "cell_type": "code",
   "execution_count": 104,
   "metadata": {},
   "outputs": [
    {
     "name": "stdout",
     "output_type": "stream",
     "text": [
      "b'MI'\n",
      "[b'MI', b'second']\n",
      "False\n",
      "6\n"
     ]
    }
   ],
   "source": [
    "print(redis.getset('name','MI')) #取值并设置新值\n",
    "print(redis.mget('name','time'))\n",
    "print(redis.setnx('newname','James'))\n",
    "print(redis.rpush('list','a','b','c'))"
   ]
  }
 ],
 "metadata": {
  "kernelspec": {
   "display_name": "Python 3",
   "language": "python",
   "name": "python3"
  },
  "language_info": {
   "codemirror_mode": {
    "name": "ipython",
    "version": 3
   },
   "file_extension": ".py",
   "mimetype": "text/x-python",
   "name": "python",
   "nbconvert_exporter": "python",
   "pygments_lexer": "ipython3",
   "version": "3.7.4"
  }
 },
 "nbformat": 4,
 "nbformat_minor": 2
}
