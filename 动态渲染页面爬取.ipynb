{
 "cells": [
  {
   "cell_type": "code",
   "execution_count": 14,
   "metadata": {},
   "outputs": [],
   "source": [
    "from selenium import webdriver\n",
    "from selenium.webdriver.common.by import By\n",
    "from selenium.webdriver.common.keys import Keys\n",
    "from selenium.webdriver.support import expected_conditions as EC\n",
    "from selenium.webdriver.support.wait import WebDriverWait\n",
    "\n",
    "browser = webdriver.Chrome()\n",
    "try:\n",
    "    browser.get(\"https://www.baidu.com\")\n",
    "    input = browser.find_element_by_id('kw')\n",
    "    input.send_keys('selinum')\n",
    "    input.send_keys(Keys.ENTER)\n",
    "    wait = WebDriverWait(browser,10)\n",
    "    wait.until(EC.presence_of_element_located((By.ID,'content_left')))\n",
    "#     print(browser.current_url)\n",
    "#     print(browser.get_cookies())\n",
    "#     print(browser.page_source)\n",
    "finally:\n",
    "    browser.close()"
   ]
  },
  {
   "cell_type": "markdown",
   "metadata": {},
   "source": [
    "## 无界面"
   ]
  },
  {
   "cell_type": "code",
   "execution_count": 6,
   "metadata": {},
   "outputs": [
    {
     "name": "stdout",
     "output_type": "stream",
     "text": [
      "https://www.baidu.com/s?ie=utf-8&f=8&rsv_bp=1&rsv_idx=1&tn=baidu&wd=selinum&rsv_t=2695NfvNtlGEvHPWPEm6DHEARcu7mAhDM1ionOH49ZNSosLQQcWzpgb8O7M&rsv_enter=1&rsv_dl=tb&rsv_sug3=7&rsv_sug2=0&inputT=122&rsv_sug4=122\n"
     ]
    }
   ],
   "source": [
    "from selenium.webdriver.chrome.options import Options\n",
    "from selenium import webdriver\n",
    "from selenium.webdriver.common.by import By\n",
    "from selenium.webdriver.common.keys import Keys\n",
    "from selenium.webdriver.support import expected_conditions as EC\n",
    "from selenium.webdriver.support.wait import WebDriverWait\n",
    "\n",
    "# 无界面模式\n",
    "chrome_options = Options()\n",
    "chrome_options.add_argument('--headless')\n",
    "chrome_options.add_argument('--disable-gpu')\n",
    "browser= webdriver.Chrome(options=chrome_options)\n",
    "browser.get(\"https://www.baidu.com\")\n",
    "input = browser.find_element_by_id('kw')\n",
    "input.send_keys('selinum')\n",
    "input.send_keys(Keys.ENTER)\n",
    "wait = WebDriverWait(browser,10)\n",
    "wait.until(EC.presence_of_element_located((By.ID,'content_left')))\n",
    "print(browser.current_url)\n",
    "browser.close()"
   ]
  }
 ],
 "metadata": {
  "kernelspec": {
   "display_name": "Python 3",
   "language": "python",
   "name": "python3"
  },
  "language_info": {
   "codemirror_mode": {
    "name": "ipython",
    "version": 3
   },
   "file_extension": ".py",
   "mimetype": "text/x-python",
   "name": "python",
   "nbconvert_exporter": "python",
   "pygments_lexer": "ipython3",
   "version": "3.7.4"
  }
 },
 "nbformat": 4,
 "nbformat_minor": 2
}
